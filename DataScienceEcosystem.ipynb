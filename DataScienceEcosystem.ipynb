{
 "cells": [
  {
   "cell_type": "markdown",
   "id": "cd684567-2f5e-40b6-a16f-5786bb5f5379",
   "metadata": {},
   "source": [
    "#  Data Science Tools and Ecosytem"
   ]
  },
  {
   "cell_type": "code",
   "execution_count": null,
   "id": "a94e3572-7dba-4e62-9c8b-e60a8e84b5aa",
   "metadata": {},
   "outputs": [],
   "source": [
    "In this notebook, Data Science Tools and Ecosystem are summarized. Welcome to my Data science beginning journey."
   ]
  },
  {
   "cell_type": "code",
   "execution_count": null,
   "id": "982e71bf-15d7-4304-a752-5d056da7fa45",
   "metadata": {},
   "outputs": [],
   "source": [
    "Data Science Languages:\n",
    "- Python\n",
    "- R\n",
    "- SQL"
   ]
  },
  {
   "cell_type": "code",
   "execution_count": null,
   "id": "1c0caaaa-9606-452c-b865-03765a3dd2c7",
   "metadata": {},
   "outputs": [],
   "source": [
    " Data Science Libraries:\n",
    "- Numpy\n",
    "- Pandas\n",
    "- Matplotlib"
   ]
  },
  {
   "cell_type": "code",
   "execution_count": null,
   "id": "471fcd0e-6fb8-489e-bcee-49b36d5395c4",
   "metadata": {},
   "outputs": [],
   "source": [
    "Table of Data Science tools:\n",
    "|Tools Name   | Description        |\n",
    "|-------------|--------------------|\n",
    "|Jupytper     | Interactive Coding | \n",
    "|Scikit-learn | Machine Learning   |\n",
    "| TensorFlow  | Deep Learning      |\n",
    "\n",
    "    \n",
    "    "
   ]
  },
  {
   "cell_type": "code",
   "execution_count": 3,
   "id": "261b6afb-79da-4cef-bc6c-0985c469ac04",
   "metadata": {
    "tags": []
   },
   "outputs": [],
   "source": [
    "### Arithemtic expressions examples\n"
   ]
  },
  {
   "cell_type": "code",
   "execution_count": 7,
   "id": "9d78cef2-afe1-4726-8cfe-eaabd6040ea4",
   "metadata": {
    "tags": []
   },
   "outputs": [
    {
     "data": {
      "text/plain": [
       "758"
      ]
     },
     "execution_count": 7,
     "metadata": {},
     "output_type": "execute_result"
    }
   ],
   "source": [
    "(2*378)+2"
   ]
  },
  {
   "cell_type": "code",
   "execution_count": 11,
   "id": "b7cbfb94-aeac-44b0-85be-1a1e060b50c3",
   "metadata": {
    "tags": []
   },
   "outputs": [
    {
     "data": {
      "text/plain": [
       "1.0"
      ]
     },
     "execution_count": 11,
     "metadata": {},
     "output_type": "execute_result"
    }
   ],
   "source": [
    "#Convert mintues to hours\n",
    "minutes = 60\n",
    "hours = minutes/60\n",
    "\n",
    "60/60"
   ]
  },
  {
   "cell_type": "code",
   "execution_count": null,
   "id": "3d11f68e-0e12-40a2-813c-15dbe233d7e5",
   "metadata": {},
   "outputs": [],
   "source": [
    "Objectivs:\n",
    "- Introduce Data science Concept.\n",
    "- Perform Basic Arithemtic operation.\n",
    "- Share information about Data Science Tools."
   ]
  },
  {
   "cell_type": "raw",
   "id": "922fcf3c-4af6-4455-8097-a42d8e9c936f",
   "metadata": {},
   "source": [
    "Author: Sutekshna"
   ]
  }
 ],
 "metadata": {
  "kernelspec": {
   "display_name": "Python",
   "language": "python",
   "name": "conda-env-python-py"
  },
  "language_info": {
   "codemirror_mode": {
    "name": "ipython",
    "version": 3
   },
   "file_extension": ".py",
   "mimetype": "text/x-python",
   "name": "python",
   "nbconvert_exporter": "python",
   "pygments_lexer": "ipython3",
   "version": "3.7.12"
  }
 },
 "nbformat": 4,
 "nbformat_minor": 5
}
